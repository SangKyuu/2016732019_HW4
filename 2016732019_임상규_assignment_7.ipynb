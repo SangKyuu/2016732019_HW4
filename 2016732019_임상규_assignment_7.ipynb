{
  "nbformat": 4,
  "nbformat_minor": 0,
  "metadata": {
    "colab": {
      "name": "2016732019_임상규_assignment_7.ipynb",
      "provenance": [],
      "collapsed_sections": []
    },
    "kernelspec": {
      "name": "python3",
      "display_name": "Python 3"
    },
    "language_info": {
      "name": "python"
    }
  },
  "cells": [
    {
      "cell_type": "markdown",
      "metadata": {
        "id": "6YMe8tL-pOfZ"
      },
      "source": [
        "### 5 Assignment\n",
        "* 행렬 방정식 풀기\n",
        "- 다음 행렬 방정식을 'Linear Regression'을 이용해 풀어보자\n",
        "+ 적당한 learning rate를 찾아 1000 epoch 정도 계산해본다\n",
        " + 'Pseudo Inverse'를 이용한 풀이와 비교해본다\n",
        " - Hint: y = wx 꼴로 변환해본다\n",
        "  + Ax=B에서는 x가 미지수이지만, y=wx에서는 w가 미지수임에 주의!\n",
        " + linear model에서 b를 없애기 위해서 nn.Linear() 사용법을 검색해보자\n",
        "\n",
        " $Ax=B$\n",
        "\n",
        " $A = \\begin{bmatrix}0 & 1 \\\\ 1 & 1 \\\\ 2 & 1 \\\\ 3 & 1 \\end{bmatrix} $\n",
        "\n",
        " $B = \\begin{bmatrix}-1 \\\\ 0.2 \\\\ 0.9 \\\\ 2.1 \\end{bmatrix} $"
      ]
    },
    {
      "cell_type": "code",
      "metadata": {
        "colab": {
          "base_uri": "https://localhost:8080/"
        },
        "id": "EQ7oXVHIo0vU",
        "outputId": "3382be4a-b94a-452e-eeb7-791949596b5d"
      },
      "source": [
        "import numpy as np\n",
        "import torch\n",
        "import torch.nn as nn\n",
        "import torch.nn.functional as func\n",
        "import torch.optim as opt\n",
        "\n",
        "\n",
        "A = torch.tensor([[0, 1], [1, 1], [2, 1],[3, 1]], dtype=torch.float)\n",
        "B = torch.tensor([[-1], [0.2], [0.9], [2.1]], dtype=torch.float)\n",
        "\n",
        "## LInear Regression\n",
        "model = nn.Linear(2,1, bias=False)\n",
        "\n",
        "optimizer = opt.SGD(model.parameters(), lr=0.05)\n",
        "\n",
        "for epoch in range(1000):\n",
        "  B_ = model(A)\n",
        "  cost = func.mse_loss(B_, B)\n",
        "\n",
        "  # cost를 이용해 model update\n",
        "  optimizer.zero_grad()\n",
        "  cost.backward()\n",
        "  optimizer.step()\n",
        "\n",
        "  # 100번 마다 중간결과 출력\n",
        "  if epoch % 100 == 99:\n",
        "    params = list(model.parameters())\n",
        "    w = params[0].tolist()\n",
        "    print('Epoch {:4d}/{} w: {} Cost: {:.6f}'.format(\n",
        "        epoch+1, 1000, w, cost.item()\n",
        "    ))\n",
        "\n",
        "print(f'\\n\\n*********Linear Regression final solution = {w}*********')\n",
        "\n",
        "\n",
        "# Pseodu Inverse Matrix\n",
        "A_ = torch.linalg.pinv(A)\n",
        "\n",
        "x = A_.matmul(B)\n",
        "\n",
        "print(f'*********Pseodu Inverse Matrix solution = {x.tolist()}*********')\n"
      ],
      "execution_count": null,
      "outputs": [
        {
          "output_type": "stream",
          "name": "stdout",
          "text": [
            "Epoch  100/1000 w: [[0.9699899554252625, -0.8859273791313171]] Cost: 0.014082\n",
            "Epoch  200/1000 w: [[0.9985347390174866, -0.9468715786933899]] Cost: 0.012504\n",
            "Epoch  300/1000 w: [[0.9999284148216248, -0.9498472213745117]] Cost: 0.012500\n",
            "Epoch  400/1000 w: [[0.9999964833259583, -0.9499924778938293]] Cost: 0.012500\n",
            "Epoch  500/1000 w: [[0.999999463558197, -0.9499989151954651]] Cost: 0.012500\n",
            "Epoch  600/1000 w: [[0.999999463558197, -0.9499989151954651]] Cost: 0.012500\n",
            "Epoch  700/1000 w: [[0.999999463558197, -0.9499989151954651]] Cost: 0.012500\n",
            "Epoch  800/1000 w: [[0.999999463558197, -0.9499989151954651]] Cost: 0.012500\n",
            "Epoch  900/1000 w: [[0.999999463558197, -0.9499989151954651]] Cost: 0.012500\n",
            "Epoch 1000/1000 w: [[0.999999463558197, -0.9499989151954651]] Cost: 0.012500\n",
            "\n",
            "\n",
            "*********Linear Regression final solution = [[0.999999463558197, -0.9499989151954651]]*********\n",
            "*********Pseodu Inverse Matrix solution = [[1.0], [-0.9499996900558472]]*********\n"
          ]
        }
      ]
    },
    {
      "cell_type": "code",
      "metadata": {
        "id": "xluTDBEcsCXF"
      },
      "source": [
        ""
      ],
      "execution_count": null,
      "outputs": []
    }
  ]
}