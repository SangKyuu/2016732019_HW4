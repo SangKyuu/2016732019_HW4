{
  "nbformat": 4,
  "nbformat_minor": 0,
  "metadata": {
    "colab": {
      "name": "2016732019_임상규_assignment_13.ipynb",
      "provenance": []
    },
    "kernelspec": {
      "name": "python3",
      "display_name": "Python 3"
    },
    "language_info": {
      "name": "python"
    }
  },
  "cells": [
    {
      "cell_type": "markdown",
      "metadata": {
        "id": "3bsjbGYFg4iu"
      },
      "source": [
        "### 3 Assignment\n",
        "### 다음 미완성 코드를 활용해 좀 더 긴 문장을 학습해보자\n",
        "* Sample sentences\n",
        "  + \"if you want to build a ship, don't drum up people together to \"\n",
        "  + \"collect wood and don't assign them tasks and work, but rather \"\n",
        "  + \"teach them to long for the endless immensity of the sea.\"\n",
        "* Training data sentence\n",
        "  + Shape: (N, S, E)\n",
        "* Hidden\n",
        "  + Shape: (N, S, E *2)\n",
        "* Output\n",
        "  + Shape: (N, S, E)"
      ]
    },
    {
      "cell_type": "code",
      "metadata": {
        "colab": {
          "base_uri": "https://localhost:8080/"
        },
        "id": "h7roS0YvhZ_7",
        "outputId": "4b94c06e-82d6-40b7-eb12-609f95b80a21"
      },
      "source": [
        "import numpy as np\n",
        "import torch\n",
        "import torch.nn as nn\n",
        "import torch.optim as optim\n",
        "\n",
        "\n",
        "# for reproducibility\n",
        "torch.manual_seed(100)\n",
        "\n",
        "# Dictionary\n",
        "sample_sentence_1 = \"if you want to build a ship, don't drum up people together to \"\n",
        "sample_sentence_2 = \"collect wood and don't assign them tasks and work, but rather \"\n",
        "sample_sentence_3 = \"teach them to long for the endless immensity of the sea.\"\n",
        "sample_sentence = sample_sentence_1 + sample_sentence_2 + sample_sentence_3\n",
        "sample_sentences = [sample_sentence_1, sample_sentence_2, sample_sentence_3]\n",
        "char_set = list(set(sample_sentence))\n",
        "dic = {c: i for i, c in enumerate(char_set)}\n",
        "\n",
        "# Parameters\n",
        "dic_size = len(dic)\n",
        "input_size = dic_size\n",
        "hidden_size = dic_size * 2\n",
        "output_size = dic_size\n",
        "unit_sequence_length = 20\n",
        "\n",
        "# Dataset setting\n",
        "input_batch = []\n",
        "target_batch = []\n",
        "\n",
        "for sentence in sample_sentences:\n",
        "  for i in range(len(sentence)):\n",
        "    if i+unit_sequence_length+1 > len(sentence):\n",
        "      break\n",
        "      # x_data = [dic[c] for c in sentence[i:-1]]\n",
        "      # y_data = [dic[c] for c in sentence[i+1:]]\n",
        "\n",
        "    else:\n",
        "      x_data = [dic[c] for c in sentence[i:i+unit_sequence_length]]\n",
        "      y_data = [dic[c] for c in sentence[i+1:i+unit_sequence_length+1]]\n",
        "\n",
        "    x_one_hot = [np.eye(dic_size)[x] for x in x_data]\n",
        "    input_batch.append(x_one_hot)\n",
        "    target_batch.append(y_data)\n",
        "\n",
        "# To torch tensors\n",
        "X = torch.FloatTensor(np.array(input_batch))\n",
        "Y = torch.LongTensor(np.array(target_batch))\n",
        "print(X.shape)\n",
        "print(Y.shape)\n"
      ],
      "execution_count": null,
      "outputs": [
        {
          "output_type": "stream",
          "name": "stdout",
          "text": [
            "torch.Size([120, 20, 25])\n",
            "torch.Size([120, 20])\n"
          ]
        }
      ]
    },
    {
      "cell_type": "code",
      "metadata": {
        "id": "2IgDVzfYpSNB"
      },
      "source": [
        "\"\"\" \n",
        "  실습 때 사용한 모델을 기초로 해서, \n",
        "  RNN쪽 부분을 RNN, LSTM, GRU 세 가지로 바꾸어가며 테스트해 결과 accuracy를 비교해본다\n",
        "\"\"\"\n",
        "\n",
        "# Model RNN\n",
        "class Custom_RNN(torch.nn.Module):\n",
        "  def __init__(self, input_dim, hidden_dim, output_dim, layers):\n",
        "    super(Custom_RNN, self).__init__()\n",
        "    self.rnn = torch.nn.RNN(input_dim, hidden_dim, num_layers=layers)\n",
        "    self.fc = torch.nn.Linear(hidden_dim, output_dim, bias=True)\n",
        "\n",
        "  def forward(self, x):\n",
        "    x, _status = self.rnn(x)\n",
        "    x = self.fc(x)\n",
        "    return x\n"
      ],
      "execution_count": null,
      "outputs": []
    },
    {
      "cell_type": "code",
      "metadata": {
        "id": "QFTvG7UWpYQr"
      },
      "source": [
        "# Model LSTM\n",
        "class Custom_LSTM(torch.nn.Module):\n",
        "  def __init__(self, input_dim, hidden_dim, output_dim, layers):\n",
        "    super(Custom_LSTM, self).__init__()\n",
        "    self.lstm = torch.nn.LSTM(input_dim, hidden_dim, num_layers=layers)\n",
        "    self.fc = torch.nn.Linear(hidden_dim, output_dim, bias=True)\n",
        "\n",
        "  def forward(self, x):\n",
        "    x, _status = self.lstm(x)\n",
        "    x = self.fc(x)\n",
        "    return x"
      ],
      "execution_count": null,
      "outputs": []
    },
    {
      "cell_type": "code",
      "metadata": {
        "id": "JGIPJirPpYAu"
      },
      "source": [
        "# Model GRU\n",
        "class Custom_GRU(torch.nn.Module):\n",
        "  def __init__(self, input_dim, hidden_dim, output_dim, layers):\n",
        "    super(Custom_GRU, self).__init__()\n",
        "    self.gru = torch.nn.GRU(input_dim, hidden_dim, num_layers=layers)\n",
        "    self.fc = torch.nn.Linear(hidden_dim, output_dim, bias=True)\n",
        "\n",
        "  def forward(self, x):\n",
        "    x, _status = self.gru(x)\n",
        "    x = self.fc(x)\n",
        "    return x"
      ],
      "execution_count": null,
      "outputs": []
    },
    {
      "cell_type": "code",
      "metadata": {
        "colab": {
          "base_uri": "https://localhost:8080/"
        },
        "id": "F6h8xIvWpXzt",
        "outputId": "8efb8d3e-d25d-45f7-c8a0-37cb4aec1847"
      },
      "source": [
        "learning_rate = 0.05\n",
        "training_epochs = 100\n",
        "model1 = Custom_RNN(input_size, hidden_size, output_size, 2)\n",
        "model2 = Custom_LSTM(input_size, hidden_size, output_size, 2)\n",
        "model3 = Custom_GRU(input_size, hidden_size, output_size, 2)\n",
        "\n",
        "# define cost/loss & optimizer\n",
        "criterion = nn.CrossEntropyLoss()    # Softmax\n",
        "optimizer1 = optim.Adam(model1.parameters(), lr=learning_rate)\n",
        "optimizer2 = optim.Adam(model2.parameters(), lr=learning_rate)\n",
        "optimizer3 = optim.Adam(model3.parameters(), lr=learning_rate)\n",
        "\n",
        "print('*training RNN')\n",
        "# train RNN\n",
        "for epoch in range(training_epochs):\n",
        "  optimizer1.zero_grad()\n",
        "  outputs1 = model1(X)\n",
        "  loss = criterion(outputs1.reshape(-1, dic_size), Y.reshape(-1))\n",
        "  loss.backward()\n",
        "  optimizer1.step()\n",
        "  if epoch % 10 == 9:\n",
        "    print('epoch: ',epoch, 'loss: ', loss.item())\n",
        "\n",
        "print('*training LSTM')\n",
        "# train LSTM\n",
        "for epoch in range(training_epochs):\n",
        "  optimizer2.zero_grad()\n",
        "  outputs2 = model2(X)\n",
        "  loss = criterion(outputs2.reshape(-1, dic_size), Y.reshape(-1))\n",
        "  loss.backward()\n",
        "  optimizer2.step()\n",
        "  if epoch % 10 == 9:\n",
        "    print('epoch: ',epoch, 'loss: ', loss.item())\n",
        "\n",
        "print('*training GRU')\n",
        "# train GRU\n",
        "for epoch in range(training_epochs):\n",
        "  optimizer3.zero_grad()\n",
        "  outputs3 = model3(X)\n",
        "  loss = criterion(outputs3.reshape(-1, dic_size), Y.reshape(-1))\n",
        "  loss.backward()\n",
        "  optimizer3.step()\n",
        "  if epoch % 10 == 9:\n",
        "    print('epoch: ',epoch, 'loss: ', loss.item())\n",
        "\n",
        "\n",
        "# result RNN\n",
        "correct_prediction = torch.argmax(outputs1, 2) == Y\n",
        "acc = correct_prediction.float().mean()\n",
        "print('RNN Accuracy:', acc.item())\n",
        "\n",
        "# result LSTM\n",
        "correct_prediction = torch.argmax(outputs2, 2) == Y\n",
        "acc = correct_prediction.float().mean()\n",
        "print('LSTM Accuracy:', acc.item())\n",
        "\n",
        "# result GRU\n",
        "correct_prediction = torch.argmax(outputs3, 2) == Y\n",
        "acc = correct_prediction.float().mean()\n",
        "print('GRU Accuracy:', acc.item())"
      ],
      "execution_count": null,
      "outputs": [
        {
          "output_type": "stream",
          "name": "stdout",
          "text": [
            "*training RNN\n",
            "epoch:  9 loss:  2.907910108566284\n",
            "epoch:  19 loss:  2.6353232860565186\n",
            "epoch:  29 loss:  2.494781255722046\n",
            "epoch:  39 loss:  2.3309452533721924\n",
            "epoch:  49 loss:  2.3871140480041504\n",
            "epoch:  59 loss:  2.9361302852630615\n",
            "epoch:  69 loss:  2.9850499629974365\n",
            "epoch:  79 loss:  2.656057834625244\n",
            "epoch:  89 loss:  2.649611711502075\n",
            "epoch:  99 loss:  2.636887311935425\n",
            "*training LSTM\n",
            "epoch:  9 loss:  2.7562332153320312\n",
            "epoch:  19 loss:  1.8871384859085083\n",
            "epoch:  29 loss:  0.8456621170043945\n",
            "epoch:  39 loss:  0.27720290422439575\n",
            "epoch:  49 loss:  0.11401919275522232\n",
            "epoch:  59 loss:  0.04747263342142105\n",
            "epoch:  69 loss:  0.02587020955979824\n",
            "epoch:  79 loss:  0.018534649163484573\n",
            "epoch:  89 loss:  0.015526099130511284\n",
            "epoch:  99 loss:  0.014072778634727001\n",
            "*training GRU\n",
            "epoch:  9 loss:  2.3059887886047363\n",
            "epoch:  19 loss:  1.0155415534973145\n",
            "epoch:  29 loss:  0.25913941860198975\n",
            "epoch:  39 loss:  0.08544573187828064\n",
            "epoch:  49 loss:  0.03231180086731911\n",
            "epoch:  59 loss:  0.018688989803195\n",
            "epoch:  69 loss:  0.016590071842074394\n",
            "epoch:  79 loss:  0.012477881275117397\n",
            "epoch:  89 loss:  0.010205424390733242\n",
            "epoch:  99 loss:  0.00895718950778246\n",
            "RNN Accuracy: 0.24541667103767395\n",
            "LSTM Accuracy: 0.9950000047683716\n",
            "GRU Accuracy: 0.996666669845581\n"
          ]
        }
      ]
    },
    {
      "cell_type": "code",
      "metadata": {
        "id": "TXcOuy1ku2Fn"
      },
      "source": [
        ""
      ],
      "execution_count": null,
      "outputs": []
    }
  ]
}