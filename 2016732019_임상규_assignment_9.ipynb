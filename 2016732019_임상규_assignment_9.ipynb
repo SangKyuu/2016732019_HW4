{
  "nbformat": 4,
  "nbformat_minor": 0,
  "metadata": {
    "colab": {
      "name": "2016732019_임상규_assignment_9.ipynb",
      "provenance": []
    },
    "kernelspec": {
      "name": "python3",
      "display_name": "Python 3"
    },
    "language_info": {
      "name": "python"
    }
  },
  "cells": [
    {
      "cell_type": "markdown",
      "metadata": {
        "id": "5KF34jrLbj3M"
      },
      "source": [
        "\n",
        "##3 Assignment\n",
        "- Data 파일을 이용한 Multinomial Classification\n",
        "\n",
        "  - data_multinomial_classification.csv을 이용해 학습한다\n",
        "    \n",
        "    +16개의 input, 1개의 output\n",
        "\n",
        "$$ [x_1, ... x_{16}, y] $$\n",
        "\n",
        "- Accuracy 95% 이상을 달성한다"
      ]
    },
    {
      "cell_type": "code",
      "metadata": {
        "colab": {
          "base_uri": "https://localhost:8080/"
        },
        "id": "R2DBh1a3cBRW",
        "outputId": "730bd210-206f-4f0e-84af-bb97a62627bb"
      },
      "source": [
        "import numpy as np\n",
        "import torch\n",
        "import torch.nn as nn\n",
        "import torch.nn.functional as func\n",
        "import torch.optim as opt\n",
        "\n",
        "from google.colab import drive\n",
        "\n",
        "# Seed 고정\n",
        "torch.manual_seed(1)\n",
        "\n",
        "drive.mount('/content/drive')\n",
        "\n",
        "csv_arr = np.loadtxt('/content/drive/MyDrive/data_multinomial_classification.csv', delimiter=',', dtype=np.float32)\n",
        "\n",
        "x_train = csv_arr[:, :16]\n",
        "y_train = csv_arr[:, -1]\n",
        "\n",
        "x_train = torch.from_numpy(x_train)\n",
        "y_train = torch.from_numpy(y_train).type(torch.long)\n",
        "\n",
        "print(x_train.shape)\n",
        "print(y_train.shape)\n",
        "\n",
        "# Model 초기화 (입력 dim, 출력 dim)\n",
        "model =nn.Linear(16, int(y_train.max())+1)\n",
        "# Optimizer 설정 (learning rate = 1로 설정)\n",
        "optimizer = opt.SGD(model.parameters(), lr=0.1)\n",
        "\n",
        "# 반복\n",
        "for epoch in range(1000):\n",
        "\n",
        "  # Cost 계산 / mse_loss(가정에의한값, 참값)\n",
        "  y_hypo = model(x_train)\n",
        "  cost = func.cross_entropy(y_hypo, y_train)\n",
        "\n",
        "  # cost를 이용해 model update\n",
        "  optimizer.zero_grad()\n",
        "  cost.backward()\n",
        "  optimizer.step()\n",
        "\n",
        "  # 10번 마다 중간결과 출력\n",
        "  if epoch % 100 == 99:\n",
        "    correct_prediction = y_hypo.argmax(dim=1) == y_train\n",
        "    accuracy = correct_prediction.sum().item() / len(correct_prediction)\n",
        "    print('Epoch {:4d}/{} Cost: {:.6f} Accuracy {:2.2f}%'.format(epoch, 1000, cost.item(), accuracy * 100,))"
      ],
      "execution_count": 16,
      "outputs": [
        {
          "output_type": "stream",
          "name": "stdout",
          "text": [
            "Drive already mounted at /content/drive; to attempt to forcibly remount, call drive.mount(\"/content/drive\", force_remount=True).\n",
            "6.0\n",
            "torch.Size([101, 16])\n",
            "torch.Size([101])\n",
            "Epoch   99/1000 Cost: 0.464755 Accuracy 86.14%\n",
            "Epoch  199/1000 Cost: 0.320766 Accuracy 93.07%\n",
            "Epoch  299/1000 Cost: 0.250044 Accuracy 95.05%\n",
            "Epoch  399/1000 Cost: 0.205962 Accuracy 95.05%\n",
            "Epoch  499/1000 Cost: 0.175403 Accuracy 96.04%\n",
            "Epoch  599/1000 Cost: 0.152832 Accuracy 99.01%\n",
            "Epoch  699/1000 Cost: 0.135432 Accuracy 100.00%\n",
            "Epoch  799/1000 Cost: 0.121593 Accuracy 100.00%\n",
            "Epoch  899/1000 Cost: 0.110322 Accuracy 100.00%\n",
            "Epoch  999/1000 Cost: 0.100965 Accuracy 100.00%\n"
          ]
        }
      ]
    },
    {
      "cell_type": "code",
      "metadata": {
        "id": "VejLyvUsehIN"
      },
      "source": [
        ""
      ],
      "execution_count": null,
      "outputs": []
    }
  ]
}