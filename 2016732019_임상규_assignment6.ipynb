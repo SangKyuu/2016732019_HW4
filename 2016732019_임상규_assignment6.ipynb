{
  "nbformat": 4,
  "nbformat_minor": 0,
  "metadata": {
    "colab": {
      "name": "2016732019_임상규_assignment6.ipynb",
      "provenance": [],
      "collapsed_sections": []
    },
    "kernelspec": {
      "name": "python3",
      "display_name": "Python 3"
    },
    "language_info": {
      "name": "python"
    }
  },
  "cells": [
    {
      "cell_type": "markdown",
      "metadata": {
        "id": "-mTyP7EkV4J8"
      },
      "source": [
        "### 4 실습 (Assignment 6)\n",
        "* 행렬 방정식 풀기 (단, Pytorch만을 사용한다)\n",
        "- 다음 행렬 방정식을 'Pseudo inverse matrix'를 이용해 풀어보자\n",
        "\n",
        "- $A^{T}A$의 역행렬이 존재한다고 가정\n",
        "\n",
        "$$Ax=B$$\n",
        "\n",
        "$$A = \\begin{bmatrix}0 & 1 \\\\ 1 & 1 \\\\ 2 & 1 \\\\ 3 & 1 \\end{bmatrix}$$\n",
        "\n",
        "$$B = \\begin{bmatrix}-1 \\\\ 0.2 \\\\ 0.9 \\\\ 2.1 \\end{bmatrix}$$"
      ]
    },
    {
      "cell_type": "code",
      "metadata": {
        "colab": {
          "base_uri": "https://localhost:8080/"
        },
        "id": "yk96DqUaV4nd",
        "outputId": "4be6c41a-4c5d-4bc3-c779-7c0a7ff87114"
      },
      "source": [
        "import torch\n",
        "\n",
        "a = torch.tensor([[0, 1], [1, 1], [2, 1], [3, 1]], dtype=torch.float)\n",
        "\n",
        "b = torch.tensor([-1, 0.2, 0.9, 2.1])\n",
        "\n",
        "a_ = torch.linalg.pinv(a)\n",
        "\n",
        "x = a_.matmul(b)\n",
        "\n",
        "print(f'A matrix = {a}\\n')\n",
        "print(f'B matrix = {b}\\n')\n",
        "\n",
        "print(f'A pseudo inverse = {a_}\\n')\n",
        "print(f'x = {x}\\n')\n",
        "\n",
        "print(f'double check {torch.linalg.lstsq(a, b).solution} == {x}')"
      ],
      "execution_count": 22,
      "outputs": [
        {
          "output_type": "stream",
          "name": "stdout",
          "text": [
            "A matrix = tensor([[0., 1.],\n",
            "        [1., 1.],\n",
            "        [2., 1.],\n",
            "        [3., 1.]])\n",
            "\n",
            "B matrix = tensor([-1.0000,  0.2000,  0.9000,  2.1000])\n",
            "\n",
            "A pseudo inverse = tensor([[-0.3000, -0.1000,  0.1000,  0.3000],\n",
            "        [ 0.7000,  0.4000,  0.1000, -0.2000]])\n",
            "\n",
            "x = tensor([ 1.0000, -0.9500])\n",
            "\n",
            "double check tensor([ 1.0000, -0.9500]) == tensor([ 1.0000, -0.9500])\n"
          ]
        }
      ]
    },
    {
      "cell_type": "code",
      "metadata": {
        "id": "hiqE91SIXKwS"
      },
      "source": [
        ""
      ],
      "execution_count": null,
      "outputs": []
    }
  ]
}