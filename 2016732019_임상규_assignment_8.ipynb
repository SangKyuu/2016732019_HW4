{
  "nbformat": 4,
  "nbformat_minor": 0,
  "metadata": {
    "colab": {
      "name": "2016732019_임상규_assignment8.ipynb",
      "provenance": [],
      "collapsed_sections": []
    },
    "kernelspec": {
      "name": "python3",
      "display_name": "Python 3"
    },
    "language_info": {
      "name": "python"
    }
  },
  "cells": [
    {
      "cell_type": "markdown",
      "metadata": {
        "id": "deQEMj4LdQ4J"
      },
      "source": [
        "### 3 Assignment\n",
        "* Data 파일을 이용한 Logistic Regression\n",
        "- data_logistic_regression.csv을 이용해 학습한다\n",
        "  + 8개의 input, 1개의 output\n",
        "\n",
        "  $ [x_1, ... x_8, y] $\n",
        "  \n",
        "   - Accuracy 75% 이상을 달성한다"
      ]
    },
    {
      "cell_type": "code",
      "metadata": {
        "colab": {
          "base_uri": "https://localhost:8080/"
        },
        "id": "Bh-UCGuadhhp",
        "outputId": "7a9916fb-985e-46bf-c76f-99ed102f2964"
      },
      "source": [
        "import numpy as np\n",
        "import torch\n",
        "import torch.nn as nn\n",
        "import torch.nn.functional as func\n",
        "import torch.optim as opt\n",
        "from google.colab import drive\n",
        "\n",
        "drive.mount('/content/drive')\n",
        "\n",
        "csv_arr = np.loadtxt('/content/drive/MyDrive/data_logistic_regression.csv', delimiter=',', dtype=np.float32)\n",
        "\n",
        "torch.manual_seed(1)\n",
        "\n",
        "train_x = csv_arr[:, :8]\n",
        "train_y = csv_arr[:, -1]\n",
        "\n",
        "\n",
        "print(train_x.shape)\n",
        "print(train_y.shape)\n",
        "train_x = torch.from_numpy(train_x)\n",
        "train_y = torch.from_numpy(train_y).unsqueeze(1)\n",
        "\n",
        "\n",
        "class Logistic(nn.Module):\n",
        "    def __init__(self, num_inputs, num_outputs):\n",
        "        super().__init__()\n",
        "        self.linear = nn.Linear(num_inputs, num_outputs)\n",
        "        self.sigmoid = nn.Sigmoid()\n",
        "\n",
        "    def forward(self, x):\n",
        "        return self.sigmoid(self.linear(x))\n",
        "\n",
        "# Model 초기화 (입력 dim, 출력 dim)\n",
        "model = Logistic(8, 1)\n",
        "\n",
        "\n",
        "# Optimizer 설정 (learning rate = 1로 설정)\n",
        "optimizer = opt.SGD(model.parameters(), lr=1)\n",
        "\n",
        "# 반복\n",
        "for epoch in range(100):\n",
        "\n",
        "  # Cost 계산 / mse_loss(가정에의한값, 참값)\n",
        "  y_hypo = model(train_x)\n",
        "  cost = func.binary_cross_entropy(y_hypo, train_y)\n",
        "\n",
        "  # cost를 이용해 model update\n",
        "  optimizer.zero_grad()\n",
        "  cost.backward()\n",
        "  optimizer.step()\n",
        "\n",
        "  # 10번 마다 중간결과 출력\n",
        "  if epoch % 10 == 9:\n",
        "    prediction = y_hypo >= torch.FloatTensor([0.5])\n",
        "    correct_prediction = prediction.float() == train_y\n",
        "    accuracy = correct_prediction.sum().item() / len(correct_prediction)\n",
        "    print('Epoch {:4d}/{} Cost: {:.6f} Accuracy {:2.2f}%'.format(\n",
        "            epoch, 100, cost.item(), accuracy * 100,\n",
        "    ))"
      ],
      "execution_count": 18,
      "outputs": [
        {
          "output_type": "stream",
          "name": "stdout",
          "text": [
            "Drive already mounted at /content/drive; to attempt to forcibly remount, call drive.mount(\"/content/drive\", force_remount=True).\n",
            "(759, 8)\n",
            "(759,)\n",
            "Epoch    9/100 Cost: 0.576835 Accuracy 66.53%\n",
            "Epoch   19/100 Cost: 0.542099 Accuracy 73.25%\n",
            "Epoch   29/100 Cost: 0.521608 Accuracy 75.63%\n",
            "Epoch   39/100 Cost: 0.508593 Accuracy 75.89%\n",
            "Epoch   49/100 Cost: 0.499838 Accuracy 76.55%\n",
            "Epoch   59/100 Cost: 0.493688 Accuracy 77.21%\n",
            "Epoch   69/100 Cost: 0.489223 Accuracy 76.81%\n",
            "Epoch   79/100 Cost: 0.485896 Accuracy 76.28%\n",
            "Epoch   89/100 Cost: 0.483365 Accuracy 76.42%\n",
            "Epoch   99/100 Cost: 0.481405 Accuracy 76.81%\n"
          ]
        }
      ]
    },
    {
      "cell_type": "code",
      "metadata": {
        "id": "Ww9wf-qgekyX"
      },
      "source": [
        ""
      ],
      "execution_count": null,
      "outputs": []
    }
  ]
}